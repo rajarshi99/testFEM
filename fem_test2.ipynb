{
 "cells": [
  {
   "cell_type": "markdown",
   "id": "757286b7-a4f3-4c81-91e9-da0ee0d7451f",
   "metadata": {},
   "source": [
    "# FEM test 2: Energy norm\n",
    "\n",
    "Illustrate the change in energy norm of the FEM solution\n",
    "on finer and finer meshes"
   ]
  },
  {
   "cell_type": "code",
   "execution_count": 1,
   "id": "5a3579cc-74ea-4223-a4c0-b65b54338250",
   "metadata": {},
   "outputs": [],
   "source": [
    "import numpy as np\n",
    "import triangle as tr\n",
    "\n",
    "from poisson_2d import Poisson_2d\n",
    "\n",
    "import matplotlib.pyplot as plt"
   ]
  },
  {
   "cell_type": "code",
   "execution_count": 2,
   "id": "a8c52830-13b1-4f7e-8fc9-9a0a57983caa",
   "metadata": {},
   "outputs": [],
   "source": [
    "def u(x,y):\n",
    "    # return np.where(y == 1, 1, 0)\n",
    "    # return np.sin(np.pi*x)*np.sin(np.pi*y)\n",
    "    return x**2*y**2\n",
    "    # return x*y\n",
    "\n",
    "def f(x,y):\n",
    "    # return 0\n",
    "    # return 2*(np.pi)**2*np.sin(np.pi*x)*np.sin(np.pi*y)\n",
    "    return -2*(x**2 + y**2)\n",
    "    # return 0"
   ]
  },
  {
   "cell_type": "markdown",
   "id": "9505979f-b862-4b58-a3a1-0d1209f12f3e",
   "metadata": {},
   "source": [
    "** Add description **"
   ]
  },
  {
   "cell_type": "code",
   "execution_count": 3,
   "id": "666e939b-3e83-4d23-94bd-d6f3125e4ec4",
   "metadata": {},
   "outputs": [],
   "source": [
    "# This part will be changed in the next commit\n",
    "\n",
    "num_solves = 5\n",
    "p_2d_list = []\n",
    "h_max_list = []\n",
    "err_estim_list = []\n",
    "\n",
    "\n",
    "for i in range(num_solves):\n",
    "    num_points_1d = (i+2)**2\n",
    "    x_1d = np.linspace(-1,1,num_points_1d)\n",
    "    y_1d = np.linspace(-1,1,num_points_1d)\n",
    "    x,y = np.meshgrid(x_1d,y_1d)\n",
    "    x = x.flatten()\n",
    "    y = y.flatten()\n",
    "\n",
    "    domain = {'vertices' : np.column_stack((x,y))}\n",
    "    for key, val in tr.triangulate(domain).items():\n",
    "        domain[key] = val\n",
    "    p_2d = Poisson_2d(domain, u, f)\n",
    "    p_2d.sol_FEM()\n",
    "    \n",
    "    h_max = p_2d.h_values().max()  # The max of the diameters of the elements which is redundant for this example\n",
    "    err_estim = p_2d.l2_err(u(p_2d.x, p_2d.y)) # Error estimate from the known solution at the nodal points\n",
    "\n",
    "    p_2d_list.append(p_2d)\n",
    "    h_max_list.append(h_max)\n",
    "    err_estim_list.append(err_estim)"
   ]
  }
 ],
 "metadata": {
  "kernelspec": {
   "display_name": "Python 3 (ipykernel)",
   "language": "python",
   "name": "python3"
  },
  "language_info": {
   "codemirror_mode": {
    "name": "ipython",
    "version": 3
   },
   "file_extension": ".py",
   "mimetype": "text/x-python",
   "name": "python",
   "nbconvert_exporter": "python",
   "pygments_lexer": "ipython3",
   "version": "3.12.7"
  }
 },
 "nbformat": 4,
 "nbformat_minor": 5
}
